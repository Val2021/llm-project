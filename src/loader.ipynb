{
 "cells": [
  {
   "cell_type": "code",
   "execution_count": null,
   "id": "49212930-0cbb-4cdd-9b88-d151b220e01d",
   "metadata": {},
   "outputs": [],
   "source": [
    "import os\n",
    "from dotenv import load_dotenv, find_dotenv\n",
    "load_dotenv(find_dotenv(), override=True)"
   ]
  },
  {
   "cell_type": "code",
   "execution_count": null,
   "id": "0c8c7687-21d8-4d32-b9d9-3e20b089ff95",
   "metadata": {},
   "outputs": [],
   "source": [
    "def load_document(file):\n",
    "    import os\n",
    "    from langchain.document_loaders import PyPDFLoader\n",
    "    print(f'Carregando {file}')\n",
    "    loader = PyPDFLoader(file)\n",
    "    return loader.load()\n",
    "data = load_document('../dataset/CLT.pdf')"
   ]
  },
  {
   "cell_type": "code",
   "execution_count": null,
   "id": "e53d356d-b08f-4bb1-9ddc-645544ba5dbd",
   "metadata": {},
   "outputs": [],
   "source": [
    "def chunk_data(data, chunk_size=1000):\n",
    "    from langchain.text_splitter import RecursiveCharacterTextSplitter\n",
    "    text_splitter =  RecursiveCharacterTextSplitter(chunk_size=chunk_size, chunk_overlap=0)\n",
    "    chunks = text_splitter.split_documents(data)\n",
    "    return chunks"
   ]
  },
  {
   "cell_type": "code",
   "execution_count": null,
   "id": "55fdf0a6-fbac-40f6-a5b1-3fba2153e7d3",
   "metadata": {},
   "outputs": [],
   "source": [
    "data = load_document('../dataset/CLT.pdf')\n",
    "chunks = chunk_data(data)"
   ]
  },
  {
   "cell_type": "code",
   "execution_count": null,
   "id": "d99ca5b5-5ffa-476d-905d-99b9e2487933",
   "metadata": {},
   "outputs": [],
   "source": [
    "def embedding_cost(texts):\n",
    "    import tiktoken\n",
    "    enc = tiktoken.encoding_for_model('text-embedding-ada-002')\n",
    "    total_tokens = sum([len(enc.encode(page.page_content)) for page in texts])\n",
    "    print(f'Tokens Total: { total_tokens}')\n",
    "    print(f'Embedding cost in USD: {total_tokens / 1000*0.0001:.6f}')"
   ]
  },
  {
   "cell_type": "code",
   "execution_count": null,
   "id": "da893ecf-7ac3-40cf-8f2a-953931c87f89",
   "metadata": {
    "scrolled": true
   },
   "outputs": [],
   "source": [
    "embedding_cost(chunks)"
   ]
  },
  {
   "cell_type": "code",
   "execution_count": null,
   "id": "cb10cdbc-13c0-421f-aab0-0d35d12d27e3",
   "metadata": {},
   "outputs": [],
   "source": [
    "def insert_embeddings(index_name):\n",
    "    import pinecone\n",
    "    from langchain.vectorstores import Pinecone\n",
    "    from langchain.embeddings.openai import OpenAIEmbeddings\n",
    "\n",
    "    embeddings = OpenAIEmbeddings()\n",
    "    pinecone.init(api_key=os.environ.get('PINECONE_API_KEY'), environment=os.environ.get('PINECONE_ENV'))\n",
    "\n",
    "    if index_name in pinecone.list_indexes():\n",
    "        print(f'Index {index_name}')\n",
    "        vector_store = Pinecone.from_existing_index(index_name,embeddings)\n",
    "        print('OK')\n",
    "    else:\n",
    "        print(f'Criando index {index_name}')\n",
    "        pinecone.create_index(index_name, dimension=1536, metric='cosine')\n",
    "        vector_store=Pinecone.from_documents(chunks,embeddings,index_name=index_name)\n",
    "        print('OK')\n",
    "    return vector_store\n",
    "        "
   ]
  },
  {
   "cell_type": "code",
   "execution_count": null,
   "id": "3b23beda-c032-41d5-bad3-1672b45066cf",
   "metadata": {},
   "outputs": [],
   "source": [
    "def delete_index(index_name='all'):\n",
    "    import pinecone\n",
    "    pinecone.init(api_key=os.environ.get('PINECONE_API_KEY'), environment=os.environ.get('PINECONE_ENV'))\n",
    "\n",
    "    if index_name == 'all':\n",
    "        indexes = pinecone.list_indexes()\n",
    "        print('Deletando todos os indices...')\n",
    "        for index in indexes:\n",
    "            pinecone.delete_index(index)\n",
    "    else:\n",
    "        print(f'Deletando_indice {index_name}...')\n",
    "        pinecone.delete_index(index_name)"
   ]
  },
  {
   "cell_type": "code",
   "execution_count": null,
   "id": "cd3d670c-5fe2-4ee0-b405-2540d5628a74",
   "metadata": {},
   "outputs": [],
   "source": [
    "index_name = 'linuxtips'\n",
    "vector_store = insert_embeddings(index_name)"
   ]
  },
  {
   "cell_type": "code",
   "execution_count": null,
   "id": "824fdcbe-3cf3-43cf-8a4e-ad6cfab9359a",
   "metadata": {},
   "outputs": [],
   "source": [
    "def get_answer(vector_store,q):\n",
    "    \n",
    "    from langchain.chains import RetrievalQA\n",
    "    from langchain.chat_models import ChatOpenAI\n",
    "\n",
    "    llm = ChatOpenAI(model='gtp-3.5-turbo', temperature=1)\n",
    "    \n",
    "    retriever = vector_store.as_retriever(search_type = 'similarity',search_kwargs={'k':3})\n",
    "\n",
    "    chain = RetrievalQA.from_chain_type(llm=llm, chain_type='stuff', retriever=retriever)\n",
    "\n",
    "    answer = chain.run(q)\n",
    "    \n",
    "    return asnwer\n",
    "\n",
    "def ask_with_memory(vector_store, question, chat_history=[]):\n",
    "    from langchain.chains import ConversationalRetrievalChain\n",
    "    from langchain.chat_models import ChatOpenAI\n",
    "\n",
    "    llm = ChatOpenAI(temperature=1)\n",
    "    retriever = vector_store.as_retriever(search_type='similarity', search_kwargs={'k':3})\n",
    "\n",
    "    crc = ConversationalRetrievalChain.from_llm(llm, retriever)\n",
    "    result = crc({'question':question, 'chat_history': chat_history})\n",
    "    chat_history.append((question, result['answer']))\n",
    "\n",
    "    return result, chat_history"
   ]
  },
  {
   "cell_type": "code",
   "execution_count": null,
   "id": "9aa11cbb-0d1c-44c9-865b-166a42888282",
   "metadata": {},
   "outputs": [],
   "source": [
    "q = 'O que é o décimo terceiro salário?'\n",
    "answer = get_answer(vector_store,q)\n",
    "print(answer)"
   ]
  },
  {
   "cell_type": "code",
   "execution_count": null,
   "id": "96ab243f-c7c3-4829-862d-b15d7f48f411",
   "metadata": {
    "scrolled": true
   },
   "outputs": [],
   "source": [
    "import time\n",
    "i = 1\n",
    "print('Digite sair para encerrar.')\n",
    "while True:\n",
    "    q = input(f'Pergunta: #{i}: ')\n",
    "    i=i+1\n",
    "    if q.lower() in ['sair']:\n",
    "        print('Encerrando ...')\n",
    "        time.sleep(2)\n",
    "        break\n",
    "    answer = get_answer(vector_store, q)\n",
    "    print(f'\\nResposta: {answer} ')\n",
    "    print(f'\\n {\"_\" * 50} \\n')"
   ]
  },
  {
   "cell_type": "code",
   "execution_count": null,
   "id": "2f53e307-96dd-48a0-b243-75cf794652aa",
   "metadata": {},
   "outputs": [],
   "source": [
    "chat_history = []\n",
    "question = 'em que ano a clt foi criada?'\n",
    "result, chat_history = ask_with_memory(vector_store, question, chat_history)\n",
    "print(result['answer'])"
   ]
  },
  {
   "cell_type": "code",
   "execution_count": null,
   "id": "2e78029f-6400-4706-aab4-39e737327c60",
   "metadata": {},
   "outputs": [],
   "source": []
  }
 ],
 "metadata": {
  "kernelspec": {
   "display_name": "Python 3 (ipykernel)",
   "language": "python",
   "name": "python3"
  },
  "language_info": {
   "codemirror_mode": {
    "name": "ipython",
    "version": 3
   },
   "file_extension": ".py",
   "mimetype": "text/x-python",
   "name": "python",
   "nbconvert_exporter": "python",
   "pygments_lexer": "ipython3",
   "version": "3.10.12"
  }
 },
 "nbformat": 4,
 "nbformat_minor": 5
}
